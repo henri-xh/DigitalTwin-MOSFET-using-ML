{
 "cells": [
  {
   "cell_type": "markdown",
   "id": "4d1b8d2f",
   "metadata": {},
   "source": [
    "<img src=\"image.png\" style=\"width:350px;height:70pz\"/>\n",
    "\n",
    "# International Project\n",
    "## Use of a MOSFET Digital Twin using Deep Learning Methods\n",
    "### Instructor: Lynn Houthuys 👩‍🏫\n",
    "### Author: Ηenri Xhindi 👨‍🎓"
   ]
  },
  {
   "cell_type": "markdown",
   "id": "97c9ead2",
   "metadata": {},
   "source": [
    "### Purpose of work 📚\n",
    "Τhis work demostrates the potential of digital twins in the industry as well as how they can be simulated and trained with A.I. methods. \n",
    "Digital twin modeling does not necessarily need tools from data science or machine learning. However, it is prudent to use such modeling techniques wherever applicable and suitable. In our case we will make a digital twin of a MOSFET and later on we will use Deep Learning models on it. The target of this work is that by creating the digital twin, it can allows you to swap out an analytical model with an Machine Learning model (and vice versa).\n",
    "\n",
    "More precisely, with using an ML technique, we are going to predict the  Sub-Threshold leakage of a MOSFET, a phenomenon found in all MOSFETs. Later on, it is going to get discussed with more details.\n",
    "\n"
   ]
  },
  {
   "cell_type": "markdown",
   "id": "320e05ee",
   "metadata": {},
   "source": [
    "## A little bit of theory 🤓"
   ]
  },
  {
   "cell_type": "markdown",
   "id": "72508bee",
   "metadata": {},
   "source": [
    "#### Digital Twins  🤖🤖"
   ]
  },
  {
   "cell_type": "markdown",
   "id": "0a18fd39",
   "metadata": {},
   "source": [
    "Digital twins can be digital replicas-representations of physical objects, processes or services of the physical world, such as jet engines, wind farms, or even larger items such as buildings or even whole cities.\n",
    "As well as physical assets, digital twin objects can be used to replicate processes in order to collect data to predict how they will perform."
   ]
  },
  {
   "cell_type": "markdown",
   "id": "65ea89a0",
   "metadata": {},
   "source": [
    "#### Deep Learning 🧠"
   ]
  },
  {
   "cell_type": "markdown",
   "id": "03303637",
   "metadata": {},
   "source": [
    "Deep learning is a type of machine learning based on artificial neural networks that imitates the way humans gain certain types of knowledge. Deep learning is an important element of data science, which includes statistics and predictive modeling. We will use Deep Learning methods on this project in ourder to train our digital twin."
   ]
  },
  {
   "cell_type": "markdown",
   "id": "045a0d6e",
   "metadata": {},
   "source": [
    "#### MOSFET  🖥️"
   ]
  },
  {
   "cell_type": "markdown",
   "id": "b21080ac",
   "metadata": {},
   "source": [
    "Transistors are semiconductor devices used to amplify or switch electrical signals and power. Also, they are one of the basic building blocks of modern electronics.\n",
    "Most modern transistors are Metal-Oxide-Semiconductor Field-Effect-Transistor (MOSFET). Basically, MOSFET is a device made of metal and semiconductor layers (usually silicon-Si or germanium-Ge) that sandwich an electrical insulator material layer in between (usually a thin oxide)."
   ]
  },
  {
   "cell_type": "markdown",
   "id": "eb937b9e",
   "metadata": {},
   "source": [
    "<img src=\"MOSFET_Structure.png\" style=\"width:350px;height:70pz\"/>\n"
   ]
  },
  {
   "cell_type": "markdown",
   "id": "fb435943",
   "metadata": {},
   "source": [
    "Practically the MOSFET is a digital switch.To be more precise, if the voltage between Gate (G) and Source (S) is below a certain threshold, then the switch is OFF (0-zero) and no current flows between the Drain and Source. In contrary when the Gate (G) to Source (S) voltage is above this threshold, the switch is ON (1-one). Furthermore, the Drain (D) to Source (S) current is also determined by the voltage between them.\n",
    "So, the fundamental utility of a MOSFET is as a voltage-controlled switch i.e. we can control the amount of current (or information) between two of its terminals by controlling the voltage on the third terminal."
   ]
  },
  {
   "cell_type": "markdown",
   "id": "2bed4f2b",
   "metadata": {},
   "source": [
    "### Characteristics we want to model\n"
   ]
  },
  {
   "cell_type": "markdown",
   "id": "b3bb8b5b",
   "metadata": {},
   "source": [
    "When developing a digital twin, the characteristics we should consider is one of the most important parts of the development. This determines the complexity and data structure choice for our digital twin.\n",
    "\n",
    "In our project, for the sake of simplicity, we will consider modeling only the most bacics charecteristics. Although we can model all kinds of complex physics phenomena with the MOSFET structure, we will work with the drain-source current (Ids) and voltage (Vds) relationships in their simplest form.\n",
    "\n"
   ]
  },
  {
   "cell_type": "markdown",
   "id": "f751ac59",
   "metadata": {},
   "source": [
    "## Let the coding begin 👨‍💻"
   ]
  },
  {
   "cell_type": "markdown",
   "id": "157872ce",
   "metadata": {},
   "source": [
    "#### Importing the necessary libraries 📕"
   ]
  },
  {
   "cell_type": "code",
   "execution_count": 1,
   "id": "3f327f32",
   "metadata": {},
   "outputs": [],
   "source": [
    "import numpy as np\n",
    "import pandas as pd\n",
    "import tensorflow as tf\n",
    "import matplotlib.pyplot as plt \n",
    "import seaborn as sns\n",
    "from sklearn.model_selection import train_test_split\n",
    "from sklearn.preprocessing import MinMaxScaler, StandardScaler\n",
    "\n",
    "%matplotlib inline"
   ]
  },
  {
   "cell_type": "markdown",
   "id": "14396b36",
   "metadata": {},
   "source": [
    "#### Definition of constant - fixed parameters ⚡"
   ]
  },
  {
   "cell_type": "code",
   "execution_count": 2,
   "id": "303f4082",
   "metadata": {},
   "outputs": [],
   "source": [
    "# Function for sub-Vth(threshold leakage) calculation\n",
    "def sub_vth(W_L,Vgs,Vth,temp=300):\n",
    "    \n",
    "    # Initialization of parameters to simulate the measurement noise and manufacturing/material variability\n",
    "\n",
    "    # Electron charge\n",
    "    q = 1.60218e-19\n",
    "    \n",
    "    # Boltzman constant\n",
    "    k = 1.3806e-23\n",
    "    \n",
    "    \n",
    "    \n",
    "    # W_L & eta gets randomized to mimic material and manufacturing variability\n",
    "    # We are using the numpy library in order to achive that. \n",
    "    \n",
    "    # Capacitance factor\n",
    "    eta = 1.2+0.01*np.random.normal()\n",
    "    \n",
    "    # Mobility factor/coefficient\n",
    "    W_L = W_L*(1+0.01*np.random.normal())\n",
    "    \n",
    "    \n",
    "    return W_L*np.exp(q*(Vgs-Vth)/(eta*k*temp))"
   ]
  },
  {
   "cell_type": "markdown",
   "id": "1fbed0a8",
   "metadata": {},
   "source": [
    "#### Declaration of MOSFET class 📟"
   ]
  },
  {
   "cell_type": "code",
   "execution_count": 3,
   "id": "42dc466e",
   "metadata": {},
   "outputs": [],
   "source": [
    "class MOSFET:\n",
    "    def __init__(self,params=None,terminals=None):\n",
    "          \n",
    "        \"\"\"\n",
    "        The followings parameters are considered some of the most important parameters\n",
    "        of a generic MOSFET.\n",
    "    \n",
    "        Vth --> The threshold voltage between Gate and Source of the MOSFET in which is ON\n",
    "        gm  --> The convenience of the MOSFET to carry current between Drain and Source when it's ON\n",
    "        BV  --> The breakdown voltage shows how much voltage the MOSFET can hold between its Drain \n",
    "        and Source while it is in the OFF state.    \n",
    "        \"\"\"\n",
    "        \n",
    "        # Params\n",
    "        if params is None:\n",
    "            self._params_ = {'BV':20,\n",
    "                             'Vth':1.0,\n",
    "                             'gm':1e-2}\n",
    "        else:\n",
    "            self._params_ = params\n",
    "            \n",
    "            \n",
    "        \n",
    "        # Terminals\n",
    "        if terminals is None:\n",
    "            self._terminals_ = {'Source':0.0,\n",
    "                        'Drain':0.0,\n",
    "                        'Gate':0.0}\n",
    "        else:\n",
    "            self._terminals_ = terminals\n",
    "            \n",
    "        \n",
    "        # Determine state\n",
    "        self._state_ = self.determine_state()\n",
    "        \n",
    "        # Leakage model trained?\n",
    "        self._leakage_ = False\n",
    "        self.leakage_model = None\n",
    "        \n",
    "#-------------------------------------------------------------------------\n",
    "## With the following method we can describe the object in one line.\n",
    "\n",
    "    def __repr__(self):\n",
    "        return \"MOSFET's Digital Twin\"\n",
    "\n",
    "    \n",
    "#-------------------------------------------------------------------------    \n",
    "## With the following method we can determine the Switching State (ON/OFF) of the MOSFET.\n",
    "\n",
    "    def determine_state(self,Vgs=None):\n",
    "\n",
    "        if Vgs is None:\n",
    "            Vgs = self._terminals_['Gate'] - self._terminals_['Source']\n",
    "        else:\n",
    "            Vgs = Vgs\n",
    "        if Vgs > self._params_['Vth']:\n",
    "            return 'ON'\n",
    "        else:\n",
    "            return 'OFF'\n",
    "\n",
    "        \n",
    "#-------------------------------------------------------------------------    \n",
    "## Calculation of the Drain-Source Current of the MOSFET using the terminal voltages and gm.\n",
    "\n",
    "    def Id_Vd(self,Vgs=None,Vds=None,rounding=True):\n",
    "       \n",
    "        if Vds is None:\n",
    "            Vds = self._terminals_['Drain'] - self._terminals_['Source']\n",
    "        else:\n",
    "            Vds = Vds\n",
    "        if Vgs is None:\n",
    "            Vgs = self._terminals_['Gate'] - self._terminals_['Source']\n",
    "        else:\n",
    "            Vgs = Vgs\n",
    "        \n",
    "        Vth = self._params_['Vth']\n",
    "        state = self.determine_state(Vgs=Vgs)\n",
    "        self._state_ = state\n",
    "        \n",
    "        if state=='ON':\n",
    "            if Vds <= Vgs - Vth:\n",
    "                Ids = self._params_['gm']*(Vgs - Vth - (Vds/2))*Vds\n",
    "            else:\n",
    "                Ids = (self._params_['gm']/2)*(Vgs-Vth)**2\n",
    "            if rounding:\n",
    "                return round(Ids,3)\n",
    "            else:\n",
    "                return Ids\n",
    "        else:\n",
    "            return sub_vth(W_L=self._params_['gm'],\n",
    "                           Vgs=Vgs,\n",
    "                           Vth=Vth)\n",
    "        \n",
    "\n",
    "#-------------------------------------------------------------------------    \n",
    "## Calculates Rdson i.e. on-state resistance of the MOSFET\n",
    "\n",
    "\n",
    "    def rdson(self,Vgs=None,Vds=None):\n",
    "\n",
    "        if Vds is None:\n",
    "            Vds = self._terminals_['Drain'] - self._terminals_['Source']\n",
    "        else:\n",
    "            Vds = Vds\n",
    "        if Vgs is None:\n",
    "            Vgs = self._terminals_['Gate'] - self._terminals_['Source']\n",
    "        else:\n",
    "            Vgs = Vgs\n",
    "        \n",
    "        Ids = self.Id_Vd(Vgs=Vgs,Vds=Vds,rounding=False)\n",
    "        Vds_delta = Vds+0.001\n",
    "        Ids_delta = self.Id_Vd(Vgs=Vgs,Vds=Vds_delta,rounding=False)\n",
    "        rdson = 0.001/(Ids_delta-Ids)\n",
    "        \n",
    "        return round(rdson,3)\n",
    "    \n",
    "    \n",
    "#-------------------------------------------------------------------------    \n",
    "## Training of our model with Deep Learning \n",
    "## Now we are going to train the digital twin as a model with leakage current using experimental data.\n",
    "\n",
    "\n",
    "    def train_leakage(self,data=None,\n",
    "                      batch_size=5,\n",
    "                      epochs=20,\n",
    "                      learning_rate=2e-5,\n",
    "                      verbose=1):\n",
    "\n",
    "        \"\"\"\n",
    "            data          --> the training data (Pandas DataFrame)\n",
    "            batch_size    --> training batch size\n",
    "            epochs        --> No. of epochs \n",
    "            learning_rate --> learning rate \n",
    "            verbose       --> verbosity of display while training\n",
    "        \"\"\"\n",
    "                                    \n",
    "        if data is None:\n",
    "            return \"No data available for training\"\n",
    "        X_train_scaled, X_test_scaled, \\\n",
    "        y_train_scaled, y_test_scaled = prepare_data(data,\n",
    "                                                input_cols=['W_L','Vgs','Vth'],\n",
    "                                                output_var='log-leakage',\n",
    "                                                        scaley=False)\n",
    "        \n",
    "        # Deep-learning model\n",
    "        model = build_model(num_layers=3,\n",
    "                            architecture=[32,32,32],\n",
    "                            input_dim=3)\n",
    "        \n",
    "        # Compile and train\n",
    "        model_trained = compile_train_model(model,\n",
    "                                            X_train_scaled,\n",
    "                                            y_train_scaled,\n",
    "                                            batch_size=batch_size,\n",
    "                                            epochs=epochs,\n",
    "                                            learning_rate=learning_rate,\n",
    "                                            verbose=verbose)\n",
    "        \n",
    "        self.leakage_model = model_trained\n",
    "        self._leakage_ = True\n",
    "                        \n",
    "                      \n",
    "#-------------------------------------------------------------------------                      \n",
    "## Separate leakage method to predict the sub-Vth leakage for any combination of transconductance, Vgs, and Vth as input.\n",
    "\n",
    "    def leakage(self,\n",
    "                W_L=1e-2,\n",
    "                Vgs=None,\n",
    "                Vth=None):\n",
    "                      \n",
    "        \"\"\"\n",
    "        Calculates leakage current using the deep learning model\n",
    "        \"\"\"\n",
    "                      \n",
    "        if not self._leakage_:\n",
    "            return \"Leakage model is not trained\"\n",
    "        # Vgs\n",
    "        if Vgs is None:\n",
    "            Vgs = self._terminals_['Gate'] - self._terminals_['Source']\n",
    "        else:\n",
    "            Vgs = Vgs\n",
    "        # Vth\n",
    "        if Vth is None:\n",
    "            Vth = self._params_['Vth']\n",
    "        else:\n",
    "            Vth = Vth\n",
    "        # Predict\n",
    "        x = np.array([W_L,Vgs,Vth])\n",
    "        ip = x.reshape(-1,3)\n",
    "        result = float(10**(-self.leakage_model.predict(ip)))\n",
    "        \n",
    "        \n",
    "        return result"
   ]
  },
  {
   "cell_type": "markdown",
   "id": "0ac7197f",
   "metadata": {},
   "source": [
    "# CREATING A MOSFET OBJECT"
   ]
  },
  {
   "cell_type": "code",
   "execution_count": 4,
   "id": "ba1e7521",
   "metadata": {},
   "outputs": [],
   "source": [
    "mosfet = MOSFET()\n"
   ]
  },
  {
   "cell_type": "code",
   "execution_count": 5,
   "id": "55a10b20",
   "metadata": {},
   "outputs": [
    {
     "data": {
      "text/plain": [
       "MOSFET's Digital Twin"
      ]
     },
     "execution_count": 5,
     "metadata": {},
     "output_type": "execute_result"
    }
   ],
   "source": [
    "mosfet\n"
   ]
  },
  {
   "cell_type": "code",
   "execution_count": 6,
   "id": "cde3fdad",
   "metadata": {},
   "outputs": [
    {
     "data": {
      "text/plain": [
       "'OFF'"
      ]
     },
     "execution_count": 6,
     "metadata": {},
     "output_type": "execute_result"
    }
   ],
   "source": [
    "mosfet._state_\n"
   ]
  },
  {
   "cell_type": "code",
   "execution_count": 7,
   "id": "e5a68f15",
   "metadata": {},
   "outputs": [
    {
     "data": {
      "text/plain": [
       "{'BV': 20, 'Vth': 1.0, 'gm': 0.01}"
      ]
     },
     "execution_count": 7,
     "metadata": {},
     "output_type": "execute_result"
    }
   ],
   "source": [
    "mosfet._params_\n"
   ]
  },
  {
   "cell_type": "markdown",
   "id": "d7481dda",
   "metadata": {},
   "source": [
    "### Object state changes as terminal voltage assignment varies"
   ]
  },
  {
   "cell_type": "code",
   "execution_count": 8,
   "id": "c5d271d9",
   "metadata": {},
   "outputs": [],
   "source": [
    "mosfet = MOSFET(terminals={'Source':0.0,\n",
    "            'Drain':0.0,\n",
    "            'Gate':2.0}, \n",
    "           params={'BV':20,\n",
    "                   'Vth':1.0,\n",
    "                   'gm':1e-2})"
   ]
  },
  {
   "cell_type": "code",
   "execution_count": 9,
   "id": "eef39e19",
   "metadata": {},
   "outputs": [
    {
     "data": {
      "text/plain": [
       "'ON'"
      ]
     },
     "execution_count": 9,
     "metadata": {},
     "output_type": "execute_result"
    }
   ],
   "source": [
    "mosfet._state_\n"
   ]
  },
  {
   "cell_type": "code",
   "execution_count": 10,
   "id": "330bf46a",
   "metadata": {},
   "outputs": [],
   "source": [
    "mosfet = MOSFET(terminals={'Source':0.0,\n",
    "            'Drain':0.0,\n",
    "            'Gate':0.7},\n",
    "            params={'BV':20,\n",
    "                   'Vth':1.0,\n",
    "                   'gm':1e-2})"
   ]
  },
  {
   "cell_type": "code",
   "execution_count": 11,
   "id": "dc15610f",
   "metadata": {},
   "outputs": [
    {
     "data": {
      "text/plain": [
       "'OFF'"
      ]
     },
     "execution_count": 11,
     "metadata": {},
     "output_type": "execute_result"
    }
   ],
   "source": [
    "mosfet._state_\n"
   ]
  },
  {
   "cell_type": "markdown",
   "id": "5fb38db2",
   "metadata": {},
   "source": [
    "## Declaring Id-Vd values for the MOSFET"
   ]
  },
  {
   "cell_type": "code",
   "execution_count": 12,
   "id": "f4a4dbce",
   "metadata": {},
   "outputs": [
    {
     "data": {
      "text/plain": [
       "6.938870708960422e-14"
      ]
     },
     "execution_count": 12,
     "metadata": {},
     "output_type": "execute_result"
    }
   ],
   "source": [
    "# Drain-Source Current\n",
    "mosfet.Id_Vd(Vgs=0.2,Vds=2.0)"
   ]
  },
  {
   "cell_type": "code",
   "execution_count": 13,
   "id": "7a6366cf",
   "metadata": {},
   "outputs": [
    {
     "data": {
      "text/plain": [
       "0.009"
      ]
     },
     "execution_count": 13,
     "metadata": {},
     "output_type": "execute_result"
    }
   ],
   "source": [
    "# Drain-Source Current\n",
    "mosfet.Id_Vd(Vgs=3.0,Vds=0.5)"
   ]
  },
  {
   "cell_type": "code",
   "execution_count": 14,
   "id": "1b51a071",
   "metadata": {},
   "outputs": [
    {
     "data": {
      "text/plain": [
       "0.015"
      ]
     },
     "execution_count": 14,
     "metadata": {},
     "output_type": "execute_result"
    }
   ],
   "source": [
    "# Drain-Source Current\n",
    "mosfet.Id_Vd(Vgs=3.0,Vds=1.0)"
   ]
  },
  {
   "cell_type": "code",
   "execution_count": 15,
   "id": "0fef5a63",
   "metadata": {},
   "outputs": [
    {
     "data": {
      "text/plain": [
       "0.02"
      ]
     },
     "execution_count": 15,
     "metadata": {},
     "output_type": "execute_result"
    }
   ],
   "source": [
    "# Drain-Source Current\n",
    "mosfet.Id_Vd(Vgs=3.0,Vds=3.0)"
   ]
  },
  {
   "cell_type": "code",
   "execution_count": 16,
   "id": "8657bedb",
   "metadata": {},
   "outputs": [
    {
     "data": {
      "text/plain": [
       "0.02"
      ]
     },
     "execution_count": 16,
     "metadata": {},
     "output_type": "execute_result"
    }
   ],
   "source": [
    "# Drain-Source Current\n",
    "mosfet.Id_Vd(Vgs=3.0,Vds=4.0)"
   ]
  },
  {
   "cell_type": "code",
   "execution_count": 17,
   "id": "d30a246e",
   "metadata": {},
   "outputs": [
    {
     "data": {
      "text/plain": [
       "'ON'"
      ]
     },
     "execution_count": 17,
     "metadata": {},
     "output_type": "execute_result"
    }
   ],
   "source": [
    "mosfet._state_"
   ]
  },
  {
   "cell_type": "code",
   "execution_count": 18,
   "id": "b9497a2d",
   "metadata": {},
   "outputs": [
    {
     "data": {
      "text/plain": [
       "66.689"
      ]
     },
     "execution_count": 18,
     "metadata": {},
     "output_type": "execute_result"
    }
   ],
   "source": [
    "# On-state Resistance\n",
    "mosfet.rdson(Vgs=3.0,Vds=0.5)"
   ]
  },
  {
   "cell_type": "code",
   "execution_count": 19,
   "id": "bafd9b92",
   "metadata": {},
   "outputs": [
    {
     "data": {
      "text/plain": [
       "71.454"
      ]
     },
     "execution_count": 19,
     "metadata": {},
     "output_type": "execute_result"
    }
   ],
   "source": [
    "# On-state Resistance\n",
    "mosfet.rdson(Vgs=3.0,Vds=0.6)"
   ]
  },
  {
   "cell_type": "code",
   "execution_count": 20,
   "id": "a810836c",
   "metadata": {},
   "outputs": [
    {
     "data": {
      "text/plain": [
       "40.008"
      ]
     },
     "execution_count": 20,
     "metadata": {},
     "output_type": "execute_result"
    }
   ],
   "source": [
    "# On-state Resistance\n",
    "mosfet.rdson(Vgs=5.0,Vds=1.5)"
   ]
  },
  {
   "cell_type": "markdown",
   "id": "8750c290",
   "metadata": {},
   "source": [
    "## Current (Ids) - Voltage (Vds) Graph Characteristics"
   ]
  },
  {
   "cell_type": "markdown",
   "id": "7bb9b41d",
   "metadata": {},
   "source": [
    "- For an ideal MOSFET "
   ]
  },
  {
   "cell_type": "code",
   "execution_count": 21,
   "id": "064f2163",
   "metadata": {},
   "outputs": [],
   "source": [
    "Ids = []\n",
    "mosfet = MOSFET()\n",
    "Vds_vals = [0.01*i for i in range(1,501)]\n",
    "for V in Vds_vals:\n",
    "    Ids.append(mosfet.Id_Vd(Vgs=3.0,Vds=V,rounding=False))"
   ]
  },
  {
   "cell_type": "code",
   "execution_count": 22,
   "id": "55de4a30",
   "metadata": {},
   "outputs": [
    {
     "data": {
      "image/png": "[encoded data removed]",
      "text/plain": [
       "<Figure size 600x400 with 1 Axes>"
      ]
     },
     "metadata": {
      "needs_background": "light"
     },
     "output_type": "display_data"
    }
   ],
   "source": [
    "plt.figure(dpi=100)\n",
    "plt.plot(Vds_vals,Ids)\n",
    "plt.xlabel(\"Vds (V)\",fontsize=10)\n",
    "plt.ylabel(\"Ids (A)\",fontsize=10)\n",
    "plt.show()"
   ]
  },
  {
   "cell_type": "markdown",
   "id": "30d88de8",
   "metadata": {},
   "source": [
    "- Graph of a more analytical model which contains Vgs (Voltage of Gate-Source)."
   ]
  },
  {
   "cell_type": "code",
   "execution_count": 23,
   "id": "d86e38bd",
   "metadata": {},
   "outputs": [
    {
     "data": {
      "image/png": "[encoded data removed]",
      "text/plain": [
       "<Figure size 600x400 with 1 Axes>"
      ]
     },
     "metadata": {
      "needs_background": "light"
     },
     "output_type": "display_data"
    }
   ],
   "source": [
    "m = MOSFET()\n",
    "plt.figure(dpi=100)\n",
    "for Vgs in [0.5,0.9,1.5,2.0,2.5]:\n",
    "    Ids = []\n",
    "    Vds_vals = [0.01*i for i in range(1,501)]\n",
    "    for V in Vds_vals:\n",
    "        Ids.append(m.Id_Vd(Vgs=Vgs,Vds=V,rounding=False))\n",
    "    plt.plot(Vds_vals,Ids)\n",
    "plt.legend([\"Vgs = \"+str(V) for V in [0.5,1.0,1.5,2.0,2.5]])\n",
    "plt.xlabel(\"Vds (V)\",fontsize=10)\n",
    "plt.ylabel(\"Ids (A)\",fontsize=10)\n",
    "plt.show()"
   ]
  },
  {
   "cell_type": "markdown",
   "id": "7d227fc2",
   "metadata": {},
   "source": [
    "## Importing the Sub-Vth leakage of a MOSFET"
   ]
  },
  {
   "cell_type": "markdown",
   "id": "8a9353fc",
   "metadata": {},
   "source": [
    "The ideal MOSFET, when in OFF state (Vgs is below Vth), must carry zero current between Drain & Source. However, in the reality, due to quantum mechanics, a real MOSFET carries a small amount of ‘leakage’ current even in the OFF state.\n",
    "\n",
    "For that case, we are going to calculate this current using a DNN (deep neural network).\n",
    "\n"
   ]
  },
  {
   "cell_type": "code",
   "execution_count": 24,
   "id": "380e093d",
   "metadata": {},
   "outputs": [
    {
     "data": {
      "text/plain": [
       "'No data available for training'"
      ]
     },
     "execution_count": 24,
     "metadata": {},
     "output_type": "execute_result"
    }
   ],
   "source": [
    "mosfet.train_leakage()\n"
   ]
  },
  {
   "cell_type": "code",
   "execution_count": 25,
   "id": "a39733bd",
   "metadata": {},
   "outputs": [
    {
     "data": {
      "image/png": "[encoded data removed]",
      "text/plain": [
       "<Figure size 432x288 with 1 Axes>"
      ]
     },
     "metadata": {
      "needs_background": "light"
     },
     "output_type": "display_data"
    }
   ],
   "source": [
    "sub = []\n",
    "Vgs = []\n",
    "for i in range(100):\n",
    "    sub.append(sub_vth(W_L=1e-2,Vgs=i*0.01,Vth=1.0))\n",
    "    Vgs.append(i*0.01)\n",
    "\n",
    "plt.semilogy(Vgs,sub)\n",
    "plt.xlabel(\"Vgs \",fontsize=10)\n",
    "plt.ylabel(\"sub \",fontsize=10)\n",
    "plt.show()"
   ]
  },
  {
   "cell_type": "markdown",
   "id": "48ee43f4",
   "metadata": {},
   "source": [
    "## Importing Synthetic leakage data"
   ]
  },
  {
   "cell_type": "code",
   "execution_count": 26,
   "id": "c6758ed5",
   "metadata": {},
   "outputs": [],
   "source": [
    "from itertools import product"
   ]
  },
  {
   "cell_type": "code",
   "execution_count": 27,
   "id": "91e4e8d5",
   "metadata": {},
   "outputs": [],
   "source": [
    "W_L_list = [1e-3*i for i in range(1,21)]\n",
    "Vgs_list = [0.01*i for i in range(1,91)]\n",
    "Vth_list = [0.05*i for i in range(21,31)]"
   ]
  },
  {
   "cell_type": "code",
   "execution_count": 28,
   "id": "34755f44",
   "metadata": {},
   "outputs": [],
   "source": [
    "comb = list(product(W_L_list,Vgs_list,Vth_list))\n"
   ]
  },
  {
   "cell_type": "code",
   "execution_count": 29,
   "id": "d6ef18e8",
   "metadata": {},
   "outputs": [],
   "source": [
    "data_dict = {'W_L':[],'Vgs':[],'Vth':[],'sub-Vth':[]}\n",
    "for c in comb:\n",
    "    data_dict['W_L'].append(c[0])\n",
    "    data_dict['Vgs'].append(c[1])\n",
    "    data_dict['Vth'].append(c[2])\n",
    "    data_dict['sub-Vth'].append(sub_vth(c[0],c[1],c[2]))"
   ]
  },
  {
   "cell_type": "code",
   "execution_count": 30,
   "id": "2c1b4f7b",
   "metadata": {},
   "outputs": [],
   "source": [
    "df = pd.DataFrame(data=data_dict,columns=['W_L','Vgs','Vth','sub-Vth'])\n"
   ]
  },
  {
   "cell_type": "code",
   "execution_count": 44,
   "id": "035a48b2",
   "metadata": {},
   "outputs": [
    {
     "data": {
      "text/html": [
       "<div>\n",
       "<style scoped>\n",
       "    .dataframe tbody tr th:only-of-type {\n",
       "        vertical-align: middle;\n",
       "    }\n",
       "\n",
       "    .dataframe tbody tr th {\n",
       "        vertical-align: top;\n",
       "    }\n",
       "\n",
       "    .dataframe thead th {\n",
       "        text-align: right;\n",
       "    }\n",
       "</style>\n",
       "<table border=\"1\" class=\"dataframe\">\n",
       "  <thead>\n",
       "    <tr style=\"text-align: right;\">\n",
       "      <th></th>\n",
       "      <th>11584</th>\n",
       "      <th>15839</th>\n",
       "      <th>6004</th>\n",
       "      <th>12030</th>\n",
       "      <th>11808</th>\n",
       "      <th>1913</th>\n",
       "      <th>3602</th>\n",
       "    </tr>\n",
       "  </thead>\n",
       "  <tbody>\n",
       "    <tr>\n",
       "      <th>W_L</th>\n",
       "      <td>1.300000e-02</td>\n",
       "      <td>1.800000e-02</td>\n",
       "      <td>7.000000e-03</td>\n",
       "      <td>1.400000e-02</td>\n",
       "      <td>1.400000e-02</td>\n",
       "      <td>3.000000e-03</td>\n",
       "      <td>5.000000e-03</td>\n",
       "    </tr>\n",
       "    <tr>\n",
       "      <th>Vgs</th>\n",
       "      <td>7.900000e-01</td>\n",
       "      <td>5.400000e-01</td>\n",
       "      <td>6.100000e-01</td>\n",
       "      <td>3.400000e-01</td>\n",
       "      <td>1.100000e-01</td>\n",
       "      <td>1.200000e-01</td>\n",
       "      <td>1.000000e-02</td>\n",
       "    </tr>\n",
       "    <tr>\n",
       "      <th>Vth</th>\n",
       "      <td>1.250000e+00</td>\n",
       "      <td>1.500000e+00</td>\n",
       "      <td>1.250000e+00</td>\n",
       "      <td>1.050000e+00</td>\n",
       "      <td>1.450000e+00</td>\n",
       "      <td>1.200000e+00</td>\n",
       "      <td>1.150000e+00</td>\n",
       "    </tr>\n",
       "    <tr>\n",
       "      <th>sub-Vth</th>\n",
       "      <td>4.203874e-09</td>\n",
       "      <td>9.587587e-16</td>\n",
       "      <td>8.137293e-12</td>\n",
       "      <td>1.471124e-12</td>\n",
       "      <td>1.910744e-21</td>\n",
       "      <td>4.712638e-18</td>\n",
       "      <td>5.133246e-19</td>\n",
       "    </tr>\n",
       "    <tr>\n",
       "      <th>log-leakage</th>\n",
       "      <td>8.376350e+00</td>\n",
       "      <td>1.501829e+01</td>\n",
       "      <td>1.108952e+01</td>\n",
       "      <td>1.183235e+01</td>\n",
       "      <td>2.071880e+01</td>\n",
       "      <td>1.732674e+01</td>\n",
       "      <td>1.828961e+01</td>\n",
       "    </tr>\n",
       "  </tbody>\n",
       "</table>\n",
       "</div>"
      ],
      "text/plain": [
       "                    11584         15839         6004          12030  \\\n",
       "W_L          1.300000e-02  1.800000e-02  7.000000e-03  1.400000e-02   \n",
       "Vgs          7.900000e-01  5.400000e-01  6.100000e-01  3.400000e-01   \n",
       "Vth          1.250000e+00  1.500000e+00  1.250000e+00  1.050000e+00   \n",
       "sub-Vth      4.203874e-09  9.587587e-16  8.137293e-12  1.471124e-12   \n",
       "log-leakage  8.376350e+00  1.501829e+01  1.108952e+01  1.183235e+01   \n",
       "\n",
       "                    11808         1913          3602   \n",
       "W_L          1.400000e-02  3.000000e-03  5.000000e-03  \n",
       "Vgs          1.100000e-01  1.200000e-01  1.000000e-02  \n",
       "Vth          1.450000e+00  1.200000e+00  1.150000e+00  \n",
       "sub-Vth      1.910744e-21  4.712638e-18  5.133246e-19  \n",
       "log-leakage  2.071880e+01  1.732674e+01  1.828961e+01  "
      ]
     },
     "execution_count": 44,
     "metadata": {},
     "output_type": "execute_result"
    }
   ],
   "source": [
    "df.sample(7).T\n"
   ]
  },
  {
   "cell_type": "code",
   "execution_count": 47,
   "id": "bb74e2e2",
   "metadata": {},
   "outputs": [
    {
     "data": {
      "text/plain": [
       "(18000, 5)"
      ]
     },
     "execution_count": 47,
     "metadata": {},
     "output_type": "execute_result"
    }
   ],
   "source": [
    "df.shape\n"
   ]
  },
  {
   "cell_type": "code",
   "execution_count": 32,
   "id": "ec24387d",
   "metadata": {},
   "outputs": [],
   "source": [
    "df['log-leakage'] = -np.log10(df['sub-Vth'])\n"
   ]
  },
  {
   "cell_type": "markdown",
   "id": "2e6ce44e",
   "metadata": {},
   "source": [
    "## Training leakage model 🏋️"
   ]
  },
  {
   "cell_type": "markdown",
   "id": "d99c39b2",
   "metadata": {},
   "source": [
    "#### Deep Neural Network Creation 🧠"
   ]
  },
  {
   "cell_type": "code",
   "execution_count": 33,
   "id": "cce74432",
   "metadata": {},
   "outputs": [],
   "source": [
    "def prepare_data(df, input_cols,output_var,test_size=0.3,scaley=False):\n",
    "\n",
    "    df1 = df.copy()\n",
    "    X = df1[input_cols]\n",
    "    y = df1[str(output_var)]\n",
    "    X_train, X_test, y_train, y_test = train_test_split(X, y, test_size=test_size)\n",
    "\n",
    "    # Min-max scaler from Scikit-learn\n",
    "    scalerx = MinMaxScaler()\n",
    "    scalery = MinMaxScaler()\n",
    "    X_train_scaled = scalerx.fit_transform(X_train)\n",
    "    X_test_scaled = scalerx.fit_transform(X_test)\n",
    "    if scaley == True:\n",
    "        y_train_scaled = scalery.fit_transform(y_train.values.reshape(-1, 1))\n",
    "        y_test_scaled = scalery.fit_transform(y_test.values.reshape(-1, 1))\n",
    "    else:\n",
    "        y_train_scaled = y_train.values.reshape(-1, 1)\n",
    "        y_test_scaled = y_test.values.reshape(-1, 1)\n",
    "    \n",
    "    return (X_train_scaled, X_test_scaled, y_train_scaled, y_test_scaled)\n",
    "\n",
    "\n",
    "#  Builds a DNN model from user input\n",
    "def build_model(num_layers=1, architecture=[32],act_func='relu', \n",
    "                input_dim=2, output_class=10):\n",
    "    \n",
    "  \"\"\"\n",
    "  num_layers   --> Number of hidden layers\n",
    "  architecture --> Architecture of the hidden layers (densely connected)\n",
    "  act_func     --> Activation function ('relu','sigmoid','tanh')\n",
    "  input_shape  --> Dimension of the input vector\n",
    "  output_class --> Number of classes in the output vector\n",
    "  \"\"\"\n",
    "\n",
    "  layers=[tf.keras.layers.Dense(input_dim,input_dim=input_dim)]\n",
    "  if act_func=='relu':\n",
    "    activation=tf.nn.relu\n",
    "  elif act_func=='sigmoid':\n",
    "    activation=tf.nn.sigmoid\n",
    "  elif act_func=='tanh':\n",
    "    activation=tf.nn.tanh\n",
    "    \n",
    "  for i in range(num_layers):\n",
    "    layers.append(tf.keras.layers.Dense(architecture[i], activation=tf.nn.relu))\n",
    "  layers.append(tf.keras.layers.Dense(1))\n",
    "  \n",
    "  model = tf.keras.models.Sequential(layers)\n",
    "  return model\n",
    "\n",
    "\n",
    "#  Compiles and trains a given Keras model with the given data. \n",
    "def compile_train_model(model,x_train, y_train, callbacks=None,\n",
    "                        learning_rate=0.001,batch_size=1,epochs=10,verbose=0):\n",
    "    \n",
    "  \"\"\"\n",
    "  learning_rate --> Learning rate for the optimizer Adam\n",
    "  batch_size    --> Batch size for the mini-batch optimization\n",
    "  epochs        --> Number of epochs to train\n",
    "  verbose       --> Verbosity of the training process\n",
    "  \"\"\"\n",
    "  \n",
    "  model_copy = model\n",
    "  model_copy.compile(optimizer=tf.keras.optimizers.Adam(lr=learning_rate),\n",
    "                     loss=\"mse\", metrics=[\"mse\"])\n",
    "  \n",
    "  if callbacks is not None:\n",
    "        model_copy.fit(x_train, y_train, epochs=epochs, batch_size=batch_size,\n",
    "                 callbacks=[callbacks],verbose=verbose)\n",
    "  else:\n",
    "    model_copy.fit(x_train, y_train, epochs=epochs, batch_size=batch_size,\n",
    "                   verbose=verbose)\n",
    "  return model_copy"
   ]
  },
  {
   "cell_type": "markdown",
   "id": "42eba227",
   "metadata": {},
   "source": [
    "With the following arrangement, we just write one line of code to train the model with the training data supplied as df DataFrame."
   ]
  },
  {
   "cell_type": "code",
   "execution_count": 34,
   "id": "8f59a864",
   "metadata": {},
   "outputs": [
    {
     "name": "stderr",
     "output_type": "stream",
     "text": [
      "2022-06-15 11:27:25.566669: I tensorflow/core/platform/cpu_feature_guard.cc:142] Your CPU supports instructions that this TensorFlow binary was not compiled to use: SSE4.1 SSE4.2 AVX AVX2 FMA\n",
      "2022-06-15 11:27:25.595374: I tensorflow/core/platform/profile_utils/cpu_utils.cc:94] CPU Frequency: 2095915000 Hz\n",
      "2022-06-15 11:27:25.596156: I tensorflow/compiler/xla/service/service.cc:168] XLA service 0x55f1c2f6d6d0 initialized for platform Host (this does not guarantee that XLA will be used). Devices:\n",
      "2022-06-15 11:27:25.596201: I tensorflow/compiler/xla/service/service.cc:176]   StreamExecutor device (0): Host, Default Version\n",
      "2022-06-15 11:27:25.596396: I tensorflow/core/common_runtime/process_util.cc:147] Creating new thread pool with default inter op setting: 2. Tune using inter_op_parallelism_threads for best performance.\n"
     ]
    },
    {
     "name": "stdout",
     "output_type": "stream",
     "text": [
      "Train on 12600 samples\n",
      "Epoch 1/20\n",
      "12600/12600 [==============================] - 11s 908us/sample - loss: 186.1212 - mse: 186.1212\n",
      "Epoch 2/20\n",
      "12600/12600 [==============================] - 11s 853us/sample - loss: 80.4876 - mse: 80.4876\n",
      "Epoch 3/20\n",
      "12600/12600 [==============================] - 13s 1ms/sample - loss: 33.3332 - mse: 33.3332\n",
      "Epoch 4/20\n",
      "12600/12600 [==============================] - 12s 913us/sample - loss: 27.2209 - mse: 27.2209\n",
      "Epoch 5/20\n",
      "12600/12600 [==============================] - 12s 934us/sample - loss: 23.0494 - mse: 23.0494\n",
      "Epoch 6/20\n",
      "12600/12600 [==============================] - 13s 1ms/sample - loss: 18.8462 - mse: 18.8462\n",
      "Epoch 7/20\n",
      "12600/12600 [==============================] - 12s 944us/sample - loss: 14.2675 - mse: 14.2675\n",
      "Epoch 8/20\n",
      "12600/12600 [==============================] - 12s 920us/sample - loss: 9.1957 - mse: 9.1957\n",
      "Epoch 9/20\n",
      "12600/12600 [==============================] - 13s 1ms/sample - loss: 4.3629 - mse: 4.3629\n",
      "Epoch 10/20\n",
      "12600/12600 [==============================] - 11s 890us/sample - loss: 1.2736 - mse: 1.2736\n",
      "Epoch 11/20\n",
      "12600/12600 [==============================] - 11s 851us/sample - loss: 0.2983 - mse: 0.2983\n",
      "Epoch 12/20\n",
      "12600/12600 [==============================] - 12s 950us/sample - loss: 0.0936 - mse: 0.0936\n",
      "Epoch 13/20\n",
      "12600/12600 [==============================] - 12s 920us/sample - loss: 0.0471 - mse: 0.0471\n",
      "Epoch 14/20\n",
      "12600/12600 [==============================] - 13s 1ms/sample - loss: 0.0326 - mse: 0.0326\n",
      "Epoch 15/20\n",
      "12600/12600 [==============================] - 13s 1ms/sample - loss: 0.0263 - mse: 0.0263\n",
      "Epoch 16/20\n",
      "12600/12600 [==============================] - 13s 1ms/sample - loss: 0.0233 - mse: 0.0233\n",
      "Epoch 17/20\n",
      "12600/12600 [==============================] - 13s 1ms/sample - loss: 0.0215 - mse: 0.0215\n",
      "Epoch 18/20\n",
      "12600/12600 [==============================] - 14s 1ms/sample - loss: 0.0202 - mse: 0.0202\n",
      "Epoch 19/20\n",
      "12600/12600 [==============================] - 14s 1ms/sample - loss: 0.0192 - mse: 0.0192\n",
      "Epoch 20/20\n",
      "12600/12600 [==============================] - 14s 1ms/sample - loss: 0.0185 - mse: 0.0185\n"
     ]
    }
   ],
   "source": [
    "mosfet.train_leakage(df)\n"
   ]
  },
  {
   "cell_type": "code",
   "execution_count": 35,
   "id": "64fdc4f6",
   "metadata": {},
   "outputs": [],
   "source": [
    "m1_trained = mosfet.leakage_model\n"
   ]
  },
  {
   "cell_type": "code",
   "execution_count": 36,
   "id": "a334accd",
   "metadata": {},
   "outputs": [
    {
     "data": {
      "image/png": "[encoded data removed]",
      "text/plain": [
       "<Figure size 432x288 with 1 Axes>"
      ]
     },
     "metadata": {
      "needs_background": "light"
     },
     "output_type": "display_data"
    }
   ],
   "source": [
    "plt.plot(np.sqrt(m1_trained.history.history['mse']))\n",
    "plt.show()\n"
   ]
  },
  {
   "cell_type": "code",
   "execution_count": 37,
   "id": "ccfa4e35",
   "metadata": {},
   "outputs": [
    {
     "data": {
      "text/plain": [
       "2.8572100224998124e-24"
      ]
     },
     "execution_count": 37,
     "metadata": {},
     "output_type": "execute_result"
    }
   ],
   "source": [
    "mosfet.leakage()\n"
   ]
  },
  {
   "cell_type": "code",
   "execution_count": 38,
   "id": "a3fffee0",
   "metadata": {},
   "outputs": [
    {
     "data": {
      "text/plain": [
       "7.467522931123901e-15"
      ]
     },
     "execution_count": 38,
     "metadata": {},
     "output_type": "execute_result"
    }
   ],
   "source": [
    "mosfet.leakage(W_L=1e-1,Vgs=0.75)\n"
   ]
  },
  {
   "cell_type": "code",
   "execution_count": 39,
   "id": "ee7e1751",
   "metadata": {},
   "outputs": [],
   "source": [
    "mosfet._terminals_['Gate']=0.8\n"
   ]
  },
  {
   "cell_type": "code",
   "execution_count": 40,
   "id": "2b5003e6",
   "metadata": {},
   "outputs": [
    {
     "data": {
      "text/plain": [
       "4.234763310417139e-13"
      ]
     },
     "execution_count": 40,
     "metadata": {},
     "output_type": "execute_result"
    }
   ],
   "source": [
    "mosfet.leakage(W_L=1)\n"
   ]
  },
  {
   "cell_type": "code",
   "execution_count": 41,
   "id": "61bb7945",
   "metadata": {},
   "outputs": [
    {
     "data": {
      "image/png": "[encoded data removed]",
      "text/plain": [
       "<Figure size 432x288 with 1 Axes>"
      ]
     },
     "metadata": {
      "needs_background": "light"
     },
     "output_type": "display_data"
    }
   ],
   "source": [
    "sub = []\n",
    "Vgs = []\n",
    "for i in range(100):\n",
    "    sub.append(mosfet.leakage(W_L=1e-2,Vgs=i*0.01,Vth=1.0))\n",
    "    Vgs.append(i*0.01)\n",
    "\n",
    "plt.semilogy(Vgs,sub)\n",
    "plt.xlabel(\"Vgs \",fontsize=10)\n",
    "plt.ylabel(\"sub \",fontsize=10)\n",
    "plt.show()"
   ]
  },
  {
   "cell_type": "code",
   "execution_count": 42,
   "id": "b8fb55d5",
   "metadata": {},
   "outputs": [],
   "source": [
    "m = MOSFET(terminals={'Source':0.0,\n",
    "            'Drain':0.0,\n",
    "            'Gate':0.7})"
   ]
  },
  {
   "cell_type": "code",
   "execution_count": 43,
   "id": "70b30cdd",
   "metadata": {},
   "outputs": [
    {
     "data": {
      "text/plain": [
       "1.6688959716677602e-14"
      ]
     },
     "execution_count": 43,
     "metadata": {},
     "output_type": "execute_result"
    }
   ],
   "source": [
    "mosfet.leakage()"
   ]
  },
  {
   "cell_type": "code",
   "execution_count": null,
   "id": "a5c19af8",
   "metadata": {},
   "outputs": [],
   "source": []
  },
  {
   "cell_type": "markdown",
   "id": "231e2d09",
   "metadata": {},
   "source": [
    "### Sources📕"
   ]
  },
  {
   "cell_type": "markdown",
   "id": "005d44e1",
   "metadata": {},
   "source": [
    "https://towardsdatascience.com/digital-twin-with-python-a-hands-on-example-2a3036124b61"
   ]
  },
  {
   "cell_type": "markdown",
   "id": "805934cf",
   "metadata": {},
   "source": [
    "https://www.twi-global.com/technical-knowledge/faqs/what-is-digital-twin"
   ]
  },
  {
   "cell_type": "markdown",
   "id": "a1889524",
   "metadata": {},
   "source": [
    "https://en.wikipedia.org/wiki/MOSFET"
   ]
  },
  {
   "cell_type": "markdown",
   "id": "7e6c5d1f",
   "metadata": {},
   "source": [
    "https://www.electronics-tutorials.ws/transistor/tran_6.html"
   ]
  },
  {
   "cell_type": "code",
   "execution_count": null,
   "id": "6e2fbb28",
   "metadata": {},
   "outputs": [],
   "source": []
  }
 ],
 "metadata": {
  "kernelspec": {
   "display_name": "Python 3 (ipykernel)",
   "language": "python",
   "name": "python3"
  },
  "language_info": {
   "codemirror_mode": {
    "name": "ipython",
    "version": 3
   },
   "file_extension": ".py",
   "mimetype": "text/x-python",
   "name": "python",
   "nbconvert_exporter": "python",
   "pygments_lexer": "ipython3",
   "version": "3.7.11"
  }
 },
 "nbformat": 4,
 "nbformat_minor": 5
}
